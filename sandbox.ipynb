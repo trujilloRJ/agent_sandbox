{
 "cells": [
  {
   "cell_type": "code",
   "execution_count": 109,
   "id": "6a77236c",
   "metadata": {},
   "outputs": [
    {
     "data": {
      "text/plain": [
       "True"
      ]
     },
     "execution_count": 109,
     "metadata": {},
     "output_type": "execute_result"
    }
   ],
   "source": [
    "import os\n",
    "import pprint\n",
    "from dotenv import load_dotenv\n",
    "from langchain.document_loaders import PyPDFLoader\n",
    "from langchain_core.prompts import PromptTemplate\n",
    "from langchain.text_splitter import RecursiveCharacterTextSplitter\n",
    "from langchain_google_genai import GoogleGenerativeAIEmbeddings, ChatGoogleGenerativeAI\n",
    "from langchain.vectorstores import FAISS\n",
    "\n",
    "from utils import show_context\n",
    "\n",
    "# load API keys defined in .env\n",
    "load_dotenv()"
   ]
  },
  {
   "cell_type": "code",
   "execution_count": 111,
   "id": "7f512804",
   "metadata": {},
   "outputs": [
    {
     "name": "stdout",
     "output_type": "stream",
     "text": [
      "Grab 4 pages\n",
      "Split into 12 chunks\n"
     ]
    }
   ],
   "source": [
    "file_path = \"data/jde-peets-annual-report-2024.pdf\"\n",
    "loader = PyPDFLoader(file_path)\n",
    "pages = loader.load()\n",
    "\n",
    "# getting only financial pages because of rate limit on free tier for OpenAIEmbeddings\n",
    "pages = pages[27:31]\n",
    "\n",
    "print(f\"Grab {len(pages)} pages\")\n",
    "\n",
    "text_splitter = RecursiveCharacterTextSplitter(\n",
    "    chunk_size=1000, chunk_overlap=200, length_function = len\n",
    ")\n",
    "chunks = text_splitter.split_documents(pages)\n",
    "print(f\"Split into {len(chunks)} chunks\")\n",
    "\n",
    "# This operation consumes CREDITS!!\n",
    "embeddings = GoogleGenerativeAIEmbeddings(model=\"models/embedding-001\")\n",
    "vectorstore = FAISS.from_documents(chunks, embeddings)\n",
    "# pprint.pprint(vectorstore.__dict__)\n",
    "# save db to avoid creation again, consuming credits\n",
    "vectorstore.save_local(\"faiss_index\")\n",
    "\n",
    "retriever = vectorstore.as_retriever(search_kwargs={\"k\": 2}) # k is how many chunks shoul return\n",
    "\n",
    "llm = ChatGoogleGenerativeAI(\n",
    "    model=\"gemini-2.0-flash\",\n",
    "    temperature=0,\n",
    "    max_tokens=None,\n",
    "    timeout=None,\n",
    "    max_retries=2,\n",
    ")\n",
    "\n",
    "prompt = PromptTemplate.from_template(\"\"\"\n",
    "    Provide an answer based on the information passed in the context\n",
    "    \n",
    "    Question: {question}\n",
    "    Retrieved Context: {context}\n",
    "\"\"\")\n",
    "\n",
    "eval_chain = (\n",
    "    prompt \n",
    "    | llm \n",
    ")"
   ]
  },
  {
   "cell_type": "code",
   "execution_count": 112,
   "id": "00599bde",
   "metadata": {},
   "outputs": [
    {
     "name": "stdout",
     "output_type": "stream",
     "text": [
      "('Key financial values from the provided context:\\n'\n",
      " '\\n'\n",
      " '*   **Sales (2024):** EUR 8,837 million\\n'\n",
      " '*   **Sales (2023):** EUR 8,191 million\\n'\n",
      " '*   **Organic Sales Growth:** 5.3%\\n'\n",
      " '*   **Operating Profit (2024):** EUR 1,056 million\\n'\n",
      " '*   **Operating Profit (2023):** EUR 685 million\\n'\n",
      " '*   **Financial Income and Expenses (2024):** EUR (263) million\\n'\n",
      " '*   **Financial Income and Expenses (2023):** EUR (143) million\\n'\n",
      " '*   **Net Income (2024):** EUR 543 million\\n'\n",
      " '*   **Net Income (2023):** EUR 364 million\\n'\n",
      " '*   **Adjusted EBIT (2024):** EUR 1,277 million\\n'\n",
      " '*   **Adjusted EBIT (2023):** EUR 1,128 million\\n'\n",
      " '*   **Organic Adjusted EBIT Growth:** 10.4%\\n'\n",
      " '*   **Adjusted EBITDA (2024):** EUR 1,587 million\\n'\n",
      " '*   **Adjusted EBITDA (2023):** EUR 1,426 million\\n'\n",
      " '*   **Underlying Profit (excluding adjusting items net of tax):** EUR 729 '\n",
      " 'million (decreased by -0.7%)\\n'\n",
      " '*   **Net Debt:** EUR 4.3 billion (as of December 31, 2024)\\n'\n",
      " '*   **Net Leverage:** 2.73x (net debt to adjusted EBITDA)\\n'\n",
      " '*   **Total Liquidity:** EUR 2.7 billion\\n'\n",
      " '*   **Cash Position:** EUR 1.2 billion\\n'\n",
      " '*   **Available Committed RCF:** EUR 1.5 billion')\n"
     ]
    }
   ],
   "source": [
    "# question = \"What is the value of the net debt?\" # 4.3 B, first test\n",
    "question = \"Pull key financial values\"\n",
    "\n",
    "# retrieving relevant context\n",
    "results = retriever.get_relevant_documents(question)\n",
    "context_text = \"\\n\".join([doc.page_content for doc in results])\n",
    "\n",
    "ai_res = eval_chain.invoke({\n",
    "    \"question\": question,\n",
    "    \"context\": context_text\n",
    "})\n",
    "\n",
    "pprint.pprint(ai_res.content) # hermoso!!"
   ]
  },
  {
   "cell_type": "code",
   "execution_count": null,
   "id": "177f25a3",
   "metadata": {},
   "outputs": [
    {
     "name": "stdout",
     "output_type": "stream",
     "text": [
      "FinancialData(current_sales=8837000000.0, previous_sales=8191000000.0, sales_growth=7.9, net_income=543000000.0, cash_position=1200000000.0)\n"
     ]
    }
   ],
   "source": [
    "from pydantic import BaseModel, Field\n",
    "\n",
    "class FinancialData(BaseModel):\n",
    "    \"\"\"Always use this schema to structure your response to the user.\"\"\"\n",
    "    current_sales: float = Field(description=\"Total business sales in the current year\")\n",
    "    previous_sales: float = Field(description=\"Total business sales in the previous year\")\n",
    "    sales_growth: float = Field(description=\"Percentage growth of sales in the current year, that is the ratio of the sales of the current year vs. the previous expressed as a percentage\") # aqui manda fruta...\n",
    "    organic_sales_growth: float = Field(description=\"Organic sales growth, excluding the effect of foreign exchange\") # aqui manda fruta...\n",
    "    net_income: float = Field(description=\"Net business income in the current year\")\n",
    "    cash_position: float = Field(description=\"Cash position of the bussines\")\n",
    "\n",
    "llm_struct_out = llm.with_structured_output(FinancialData)\n",
    "\n",
    "eval_chain_str = (\n",
    "    prompt \n",
    "    | llm_struct_out \n",
    ")\n",
    "\n",
    "question = \"Pull key financial values\"\n",
    "\n",
    "# retrieving relevant context\n",
    "results = retriever.get_relevant_documents(question)\n",
    "context_text = \"\\n\".join([doc.page_content for doc in results])\n",
    "\n",
    "ai_res = eval_chain_str.invoke({\n",
    "    \"question\": question,\n",
    "    \"context\": context_text\n",
    "})\n",
    "\n",
    "pprint.pprint(ai_res)"
   ]
  }
 ],
 "metadata": {
  "kernelspec": {
   "display_name": ".venv",
   "language": "python",
   "name": "python3"
  },
  "language_info": {
   "codemirror_mode": {
    "name": "ipython",
    "version": 3
   },
   "file_extension": ".py",
   "mimetype": "text/x-python",
   "name": "python",
   "nbconvert_exporter": "python",
   "pygments_lexer": "ipython3",
   "version": "3.12.5"
  }
 },
 "nbformat": 4,
 "nbformat_minor": 5
}
