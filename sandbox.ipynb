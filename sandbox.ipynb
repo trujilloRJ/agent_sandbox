{
 "cells": [
  {
   "cell_type": "code",
   "execution_count": 89,
   "id": "6a77236c",
   "metadata": {},
   "outputs": [
    {
     "data": {
      "text/plain": [
       "True"
      ]
     },
     "execution_count": 89,
     "metadata": {},
     "output_type": "execute_result"
    }
   ],
   "source": [
    "import os\n",
    "import pprint\n",
    "from dotenv import load_dotenv\n",
    "from langchain.document_loaders import PyPDFLoader\n",
    "from langchain_core.prompts import PromptTemplate\n",
    "from langchain.text_splitter import RecursiveCharacterTextSplitter\n",
    "from langchain_google_genai import GoogleGenerativeAIEmbeddings, ChatGoogleGenerativeAI\n",
    "from langchain.vectorstores import FAISS\n",
    "\n",
    "from utils import show_context\n",
    "\n",
    "# load API keys defined in .env\n",
    "load_dotenv()"
   ]
  },
  {
   "cell_type": "code",
   "execution_count": null,
   "id": "7f512804",
   "metadata": {},
   "outputs": [
    {
     "name": "stdout",
     "output_type": "stream",
     "text": [
      "Grab 4 pages\n",
      "Split into 12 chunks\n",
      "{'_normalize_L2': False,\n",
      " 'distance_strategy': <DistanceStrategy.EUCLIDEAN_DISTANCE: 'EUCLIDEAN_DISTANCE'>,\n",
      " 'docstore': <langchain_community.docstore.in_memory.InMemoryDocstore object at 0x0000020F9CB56420>,\n",
      " 'embedding_function': GoogleGenerativeAIEmbeddings(client=<google.ai.generativelanguage_v1beta.services.generative_service.client.GenerativeServiceClient object at 0x0000020F9CAB50D0>, model='models/embedding-001', task_type=None, google_api_key=SecretStr('**********'), credentials=None, client_options=None, transport=None, request_options=None),\n",
      " 'index': <faiss.swigfaiss_avx2.IndexFlatL2; proxy of <Swig Object of type 'faiss::IndexFlatL2 *' at 0x0000020F9CB57180> >,\n",
      " 'index_to_docstore_id': {0: 'cd431b33-2b53-4ff4-b5b4-46b420043e5d',\n",
      "                          1: '62b3b15a-6ee7-4fed-8c7c-4f56f1c8b31b',\n",
      "                          2: 'fe06471c-6a10-4c74-a1f6-9eaacb5e7669',\n",
      "                          3: 'aa0f4dd6-5b50-489f-ad56-f9f32b9d304c',\n",
      "                          4: '7fa20057-4867-449a-9ed2-398087a7f2ff',\n",
      "                          5: '8ab89e47-5763-4cf3-9849-03c6a88a0915',\n",
      "                          6: 'e1ac270d-d09a-46b7-84bc-d69950e9f304',\n",
      "                          7: '2fb1ec8f-d3b6-4b00-b4ba-8fea8ce5463c',\n",
      "                          8: '80bff787-c30f-4f56-a659-c45bd2138a9c',\n",
      "                          9: '68d3d783-779f-40f5-971e-20c15ec74d22',\n",
      "                          10: '8335675b-c3ba-4fbe-96af-9598134d5ba4',\n",
      "                          11: '68e06234-050b-48b6-ae4d-46b53d14efe8'},\n",
      " 'override_relevance_score_fn': None}\n"
     ]
    }
   ],
   "source": [
    "file_path = \"data/jde-peets-annual-report-2024.pdf\"\n",
    "loader = PyPDFLoader(file_path)\n",
    "pages = loader.load()\n",
    "\n",
    "# getting only financial pages because of rate limit on free tier for OpenAIEmbeddings\n",
    "pages = pages[27:31]\n",
    "\n",
    "print(f\"Grab {len(pages)} pages\")\n",
    "\n",
    "text_splitter = RecursiveCharacterTextSplitter(\n",
    "    chunk_size=1000, chunk_overlap=200, length_function = len\n",
    ")\n",
    "chunks = text_splitter.split_documents(pages)\n",
    "print(f\"Split into {len(chunks)} chunks\")\n",
    "\n",
    "# This operation consumes CREDITS!!\n",
    "embeddings = GoogleGenerativeAIEmbeddings(model=\"models/embedding-001\")\n",
    "vectorstore = FAISS.from_documents(chunks, embeddings)\n",
    "pprint.pprint(vectorstore.__dict__)\n",
    "# save db to avoid creation again, consuming credits\n",
    "vectorstore.save_local(\"faiss_index\")\n",
    "\n",
    "retriever = vectorstore.as_retriever(search_kwargs={\"k\": 2}) # k is how many chunks shoul return\n",
    "\n",
    "llm = ChatGoogleGenerativeAI(\n",
    "    model=\"gemini-2.0-flash\",\n",
    "    temperature=0,\n",
    "    max_tokens=None,\n",
    "    timeout=None,\n",
    "    max_retries=2,\n",
    ")"
   ]
  },
  {
   "cell_type": "code",
   "execution_count": 93,
   "id": "9e5fa5bd",
   "metadata": {},
   "outputs": [
    {
     "data": {
      "text/plain": [
       "\"Underlying profit - excluding all adjusting items net of tax - decreased by -0.7% to EUR 729 million. This performance \\nwas mainly driven by an unfavourable non-tax deductible impact of EUR 154 million from a fair value change in the \\nCompany's equity derivatives, due to the decrease in the Company's share price in 2024.\\nNet leverage was 2.73x (net debt to adjusted EBITDA), despite currency headwinds, with a net debt of EUR 4.3 billion \\non 31 December 2024.\\nOur liquidity position remains strong, with total liquidity of EUR 2.7 billion consisting of a cash position of EUR 1.2 \\nbillion and an available committed RCF of EUR 1.5 billion. \\nIn EUR million, unless otherwise stated:\\n2024 2023\\nSales 8,837 8,191\\nOrganic change  5.3 %\\nOperating profit 1,056 685\\nFinancial income and expenses (263) (143)\\nShare of net profit / (loss) of associates (3) (5)\\nIncome tax expense (247) (173)\\nNet income 543 364\\n \\nAdjusted EBIT 1,277 1,128\\nOrganic change  10.4 %\\nAdjusted EBITDA 1,587 1,426\\nAdjusted \\nEBIT FX impact\\nScope & \\nother\\nOrganic \\nadjusted \\nEBIT\\nOperating profit to adj. EBIT  1,056  221  1,277  18  (49)  1,246 \\nOperating \\nprofit\\nAdjusting \\nitems\\nAdjusted \\nEBIT\\nAdjusted \\nD&A\\nAdjusted \\nEBITDA\\nOperating profit to adj. EBITDA  1,056  221  1,277  310  1,587 \\nUNDERLYING PROFIT FOR THE PERIOD\\nIn EUR million, unless otherwise stated:\\n2024 2023\\nOperating profit  1,056  685 \\nAdjusting items:\\n- ERP system implementation  16  7 \\n- Transformation activities and corporate actions  60  126 \\n- Share-based payment expense  17  44 \\n- Mark-to-market results  (4)  (39) \\n- Amortisation of acquired intangible assets and M&A/Deal costs  132  305 \\nAdjusted EBIT  1,277  1,128 \\nNet financial income/(expenses)  (263)  (143) \\nAdjusted taxes  (295)  (254) \\nAdjustments for NCI shareholders  10  3 \\nUnderlying profit for the period  729  734 \\nAn overview of the adjusting items can be found in note 2.1 of the Consolidated Financial Statements section in this \\nreport.\\nUNDERLYING EFFECTIVE TAX\""
      ]
     },
     "execution_count": 93,
     "metadata": {},
     "output_type": "execute_result"
    }
   ],
   "source": [
    "# TEST retrieving\n",
    "results = retriever.get_relevant_documents(\"What is the net debt?\")\n",
    "context_text = \"\\n\".join([doc.page_content for doc in results])\n",
    "context_text"
   ]
  },
  {
   "cell_type": "code",
   "execution_count": null,
   "id": "651e29d5",
   "metadata": {},
   "outputs": [],
   "source": [
    "prompt = PromptTemplate.from_template(\"\"\"\n",
    "    Provide an answer based on the information passed in the context\n",
    "    \n",
    "    Question: {question}\n",
    "    Retrieved Context: {context}\n",
    "\"\"\")\n",
    "\n",
    "eval_chain = (\n",
    "    prompt \n",
    "    | llm \n",
    ")\n",
    "\n",
    "question = \"What is the value of the net debt?\"\n",
    "\n",
    "# retrieving relevant context\n",
    "results = retriever.get_relevant_documents(question)\n",
    "context_text = \"\\n\".join([doc.page_content for doc in results])\n",
    "\n",
    "ai_res = eval_chain.invoke({\n",
    "    \"question\": question,\n",
    "    \"context\": context_text\n",
    "})"
   ]
  },
  {
   "cell_type": "code",
   "execution_count": null,
   "id": "00599bde",
   "metadata": {},
   "outputs": [],
   "source": [
    "\n"
   ]
  }
 ],
 "metadata": {
  "kernelspec": {
   "display_name": ".venv",
   "language": "python",
   "name": "python3"
  },
  "language_info": {
   "codemirror_mode": {
    "name": "ipython",
    "version": 3
   },
   "file_extension": ".py",
   "mimetype": "text/x-python",
   "name": "python",
   "nbconvert_exporter": "python",
   "pygments_lexer": "ipython3",
   "version": "3.12.5"
  }
 },
 "nbformat": 4,
 "nbformat_minor": 5
}
